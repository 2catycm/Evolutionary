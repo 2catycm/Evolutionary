{
 "cells": [
  {
   "cell_type": "code",
   "execution_count": 1,
   "metadata": {},
   "outputs": [],
   "source": [
    "import torch\n",
    "best_fitness = -torch.inf\n",
    "# best_fitness = -9999\n",
    "best_fitness = -torch.inf*torch.ones(5)"
   ]
  },
  {
   "cell_type": "code",
   "execution_count": 2,
   "metadata": {},
   "outputs": [
    {
     "data": {
      "text/plain": [
       "(25.0, 0.0037474787584676197)"
      ]
     },
     "execution_count": 2,
     "metadata": {},
     "output_type": "execute_result"
    }
   ],
   "source": [
    "from scipy.stats import mannwhitneyu\n",
    "fitness = torch.Tensor([1, 2, 3, 4, 5])\n",
    "stat, p = mannwhitneyu(fitness, best_fitness, alternative='greater') # H0: best_fitness >= fitness\n",
    "stat, p\n",
    "# p<0.05"
   ]
  },
  {
   "cell_type": "code",
   "execution_count": 4,
   "metadata": {},
   "outputs": [
    {
     "data": {
      "text/plain": [
       "1"
      ]
     },
     "execution_count": 4,
     "metadata": {},
     "output_type": "execute_result"
    }
   ],
   "source": [
    "a = lambda :1\n",
    "a()"
   ]
  },
  {
   "cell_type": "code",
   "execution_count": 5,
   "metadata": {},
   "outputs": [
    {
     "data": {
      "text/plain": [
       "tensor([30.])"
      ]
     },
     "execution_count": 5,
     "metadata": {},
     "output_type": "execute_result"
    }
   ],
   "source": [
    "import integer_funs\n",
    "import torch\n",
    "a = integer_funs.LargestSum()\n",
    "a( torch.ones(1, a.dimension) )"
   ]
  },
  {
   "cell_type": "code",
   "execution_count": 7,
   "metadata": {},
   "outputs": [],
   "source": [
    "import evolutionary_algorithm as ea\n",
    "from evolutionary_algorithm.student_experiment import StudentExperiment"
   ]
  },
  {
   "cell_type": "code",
   "execution_count": null,
   "metadata": {},
   "outputs": [],
   "source": [
    "s = StudentExperiment(a, k_round=3, experiment_times=1, draw_prob=1,  draw_path=\"runs/test\")\n",
    "best_x, history = s()"
   ]
  },
  {
   "cell_type": "code",
   "execution_count": 8,
   "metadata": {},
   "outputs": [
    {
     "name": "stdout",
     "output_type": "stream",
     "text": [
      "第0轮实验, fitness平均为0.0\n",
      "第1轮实验, fitness平均为0.0\n",
      "第2轮实验, fitness平均为0.0\n"
     ]
    }
   ],
   "source": [
    "import benchmark_funs as bf\n",
    "smallest_sum = bf.NegativeProxyObjective(a)\n",
    "s = StudentExperiment(smallest_sum, k_round=3, experiment_times=1, draw_prob=1,  draw_path=\"runs/test\")\n",
    "best_x, history = s()"
   ]
  },
  {
   "cell_type": "code",
   "execution_count": 9,
   "metadata": {},
   "outputs": [
    {
     "data": {
      "text/plain": [
       "tensor([-225., -224., -223., -221., -219., -216., -213., -209., -205., -200.,\n",
       "        -195., -189., -183., -176., -169., -161., -153., -144., -135., -125.,\n",
       "        -115., -104.,  -93.,  -81.,  -69.,  -56.,  -43.,  -29.,  -15.,    0.,\n",
       "           0.,    0.,    0.,    0.,    0.,    0.,    0.,    0.,    0.,    0.,\n",
       "           0.,    0.,    0.,    0.,    0.,    0.,    0.,    0.,    0.,    0.,\n",
       "           0.,    0.,    0.,    0.,    0.,    0.,    0.,    0.,    0.,    0.,\n",
       "           0.,    0.,    0.,    0.,    0.,    0.,    0.,    0.,    0.,    0.,\n",
       "           0.,    0.,    0.,    0.,    0.,    0.,    0.,    0.,    0.,    0.,\n",
       "           0.,    0.,    0.,    0.,    0.,    0.,    0.,    0.,    0.,    0.])"
      ]
     },
     "execution_count": 9,
     "metadata": {},
     "output_type": "execute_result"
    }
   ],
   "source": [
    "history"
   ]
  },
  {
   "cell_type": "code",
   "execution_count": 21,
   "metadata": {},
   "outputs": [
    {
     "data": {
      "image/png": "[encoded data removed]",
      "text/plain": [
       "<Figure size 640x480 with 1 Axes>"
      ]
     },
     "metadata": {},
     "output_type": "display_data"
    }
   ],
   "source": [
    "from matplotlib import pyplot as plt\n",
    "x = torch.arange(10)+1\n",
    "name = [\"a\", \"b\", \"c\", \"d\", \"e\", \"f\", \"g\", \"h\", \"i\", \"j\"]\n",
    "y = -(x-5)**2\n",
    "# color_name = 'Set3' #官方色组名称\n",
    "# colors = plt.get_cmap(color_name)\n",
    "\n",
    "# plt.scatter(x, y, cmap=colors, marker='x')\n",
    "# plt.scatter(x, y, marker='x')\n",
    "# plt.scatter(x, y, c='dodgerblue', marker='x')\n",
    "# plt.rcParams['axes.facecolor']='snow'\n",
    "plt.rcParams['axes.facecolor']='black'\n",
    "# plt.scatter(x, y, c='crimson', marker='x')\n",
    "plt.scatter(x, y, c='lawngreen', marker='x')\n",
    "# plt.plot(x, y, c='aquamarine')\n",
    "plt.plot(x, y, c='salmon')\n",
    "plt.xticks(x, name)\n",
    "plt.savefig('figs/test.png')"
   ]
  }
 ],
 "metadata": {
  "kernelspec": {
   "display_name": "torch2.0",
   "language": "python",
   "name": "python3"
  },
  "language_info": {
   "codemirror_mode": {
    "name": "ipython",
    "version": 3
   },
   "file_extension": ".py",
   "mimetype": "text/x-python",
   "name": "python",
   "nbconvert_exporter": "python",
   "pygments_lexer": "ipython3",
   "version": "3.9.13"
  },
  "orig_nbformat": 4,
  "vscode": {
   "interpreter": {
    "hash": "1a2b77741674cb2bc9a19c189751060df647b680c742b3419cc715cc3a77899f"
   }
  }
 },
 "nbformat": 4,
 "nbformat_minor": 2
}
