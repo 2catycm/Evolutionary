{
 "cells": [
  {
   "cell_type": "code",
   "execution_count": 1,
   "metadata": {},
   "outputs": [],
   "source": [
    "import evolutionary_operator as eo\n",
    "import torch\n",
    "import benchmark_funs as bf"
   ]
  },
  {
   "cell_type": "code",
   "execution_count": 3,
   "metadata": {},
   "outputs": [
    {
     "name": "stdout",
     "output_type": "stream",
     "text": [
      "tensor([[-31.6395, -55.1214,  -7.3923],\n",
      "        [  3.8181,   1.5594,  33.3022]])\n",
      "tensor([[ -3.6387,  -0.1209,  -4.8264],\n",
      "        [-14.9334,  40.2682,  21.5897]])\n",
      "tensor([[ -7.4647, -28.5861,  16.5171],\n",
      "        [ 10.7942, -29.2277, -15.3646]])\n",
      "tensor([[  0.0550, -11.0427,  -2.2150],\n",
      "        [ -3.5085,   7.3761,   7.7148]])\n",
      "tensor([[ 3.4431e+01, -3.7800e-02,  1.0540e+01],\n",
      "        [-1.4819e+00,  1.0000e+02, -2.4926e+01]])\n",
      "tensor([[ 28.0739,  17.2040,  27.6482],\n",
      "        [-23.5119,  12.6601,   5.8885]])\n",
      "tensor([[ 1.6217,  1.5776, 15.1564],\n",
      "        [-2.1444,  0.3696, -2.9136]])\n",
      "tensor([[   0.0000, -100.0000,   23.2518],\n",
      "        [   0.0000,    0.0000,   10.6549]])\n",
      "tensor([[-31.9572,   0.0000,  10.2024],\n",
      "        [  0.0000,   0.0000,  33.4859]])\n",
      "tensor([[-57.0832,   0.0000,  -1.5331],\n",
      "        [  6.6179,   6.8560, -38.3261]])\n",
      "tensor([[ 9.9558, 64.0351,  0.0000],\n",
      "        [ 0.0000,  0.0000, -9.3930]])\n"
     ]
    }
   ],
   "source": [
    "problem = bf.Sphere(3)\n",
    "for i_s in eo.initialization_operators.strategies:\n",
    "    i_strategy = i_s(problem)\n",
    "    x = torch.zeros(2, 3)\n",
    "    h = torch.zeros(2, 4)\n",
    "    x,h,e = i_strategy(x, h)\n",
    "    print(x)"
   ]
  },
  {
   "cell_type": "code",
   "execution_count": null,
   "metadata": {},
   "outputs": [],
   "source": [
    "eo.mutat"
   ]
  }
 ],
 "metadata": {
  "kernelspec": {
   "display_name": "torch2.0",
   "language": "python",
   "name": "python3"
  },
  "language_info": {
   "codemirror_mode": {
    "name": "ipython",
    "version": 3
   },
   "file_extension": ".py",
   "mimetype": "text/x-python",
   "name": "python",
   "nbconvert_exporter": "python",
   "pygments_lexer": "ipython3",
   "version": "3.9.13"
  },
  "orig_nbformat": 4,
  "vscode": {
   "interpreter": {
    "hash": "1a2b77741674cb2bc9a19c189751060df647b680c742b3419cc715cc3a77899f"
   }
  }
 },
 "nbformat": 4,
 "nbformat_minor": 2
}
