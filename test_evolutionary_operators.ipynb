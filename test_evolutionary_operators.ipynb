{
 "cells": [
  {
   "cell_type": "code",
   "execution_count": 1,
   "metadata": {},
   "outputs": [],
   "source": [
    "import evolutionary_operator as eo\n",
    "import torch\n",
    "import benchmark_funs as bf"
   ]
  },
  {
   "cell_type": "code",
   "execution_count": 2,
   "metadata": {},
   "outputs": [
    {
     "name": "stdout",
     "output_type": "stream",
     "text": [
      "tensor([[ 87.5232, -30.7827,  20.9177],\n",
      "        [ 96.4026, -53.5012, -18.6543]])\n",
      "tensor([[ 43.3651,  63.8642,  57.6104],\n",
      "        [  6.0159, -36.0110, -22.2320]])\n",
      "tensor([[ 20.5618, -11.5535,  -9.7155],\n",
      "        [  2.3757,   5.2946,   3.7290]])\n",
      "tensor([[ 2.9270, 10.9354, -0.3971],\n",
      "        [-8.3762, 11.8897, 12.5600]])\n",
      "tensor([[ 35.1843,  -2.9433, -16.1841],\n",
      "        [ 15.4306,  54.5371,   1.9119]])\n",
      "tensor([[ -13.5959,   51.5649, -100.0000],\n",
      "        [-100.0000,   15.9120,   -6.4331]])\n",
      "tensor([[-16.9481,  27.5839,  -4.8067],\n",
      "        [ -4.6657,   2.1110,   1.0371]])\n",
      "tensor([[  0.0000,   0.0000, -44.0071],\n",
      "        [ -5.3343, -13.9536, -26.5578]])\n",
      "tensor([[ 0.0000,  8.4083,  0.0000],\n",
      "        [ 0.0000,  0.0000, -8.8641]])\n",
      "tensor([[  0.0000,   0.0000,  12.0073],\n",
      "        [ 26.3655, -16.9878,   4.8219]])\n",
      "tensor([[  0.0000,   0.0000,   0.0000],\n",
      "        [ 59.0276, -13.7544,  -0.1924]])\n"
     ]
    }
   ],
   "source": [
    "problem = bf.Sphere(3)\n",
    "for i_s in eo.initialization_operators.strategies:\n",
    "    i_strategy = i_s(problem)\n",
    "    x = torch.zeros(2, 3)\n",
    "    h = torch.zeros(2, 4)\n",
    "    x,h,e = i_strategy(x, h)\n",
    "    print(x)"
   ]
  },
  {
   "cell_type": "code",
   "execution_count": 3,
   "metadata": {},
   "outputs": [
    {
     "name": "stdout",
     "output_type": "stream",
     "text": [
      "tensor([[0., 0., 0.],\n",
      "        [0., 0., 0.]])\n",
      "tensor([[ 0.0538, -0.9565, -1.3491],\n",
      "        [-0.3106, -0.1725, -0.0200]])\n",
      "tensor([[ 2.7694,  1.3264, -0.1102],\n",
      "        [-0.3125,  0.3648, -4.3289]])\n",
      "tensor([[-0.0119,  2.6289,  0.0000],\n",
      "        [ 0.0000,  0.0000,  0.0000]])\n"
     ]
    }
   ],
   "source": [
    "for m_s in eo.mutation_operators.strategies:\n",
    "    m_strategy = m_s(problem)\n",
    "    x = torch.zeros(2, 3)\n",
    "    h = torch.ones(2, 4)\n",
    "    x,h,e = m_strategy(x, h)\n",
    "    print(x)"
   ]
  },
  {
   "cell_type": "code",
   "execution_count": 4,
   "metadata": {},
   "outputs": [
    {
     "name": "stdout",
     "output_type": "stream",
     "text": [
      "tensor([[0., 0., 0.]])\n",
      "tensor([[0., 0., 0.]])\n",
      "tensor([[0., 0., 0.]])\n",
      "tensor([[0., 0., 0.]])\n"
     ]
    }
   ],
   "source": [
    "# hh = eo.abstract_operators.hyper_hyper_param_from_dict({'opponents_ratio':3/4})\n",
    "for s_s in eo.selection_operators.strategies:\n",
    "    # s_strategy = s_s(problem, hh)\n",
    "    s_strategy = s_s(problem)\n",
    "    x = torch.zeros(2, 3)\n",
    "    h = torch.ones(2, 4)\n",
    "    x,h,e = s_strategy(x, h)\n",
    "    print(x)"
   ]
  }
 ],
 "metadata": {
  "kernelspec": {
   "display_name": "torch2.0",
   "language": "python",
   "name": "python3"
  },
  "language_info": {
   "codemirror_mode": {
    "name": "ipython",
    "version": 3
   },
   "file_extension": ".py",
   "mimetype": "text/x-python",
   "name": "python",
   "nbconvert_exporter": "python",
   "pygments_lexer": "ipython3",
   "version": "3.9.13"
  },
  "orig_nbformat": 4,
  "vscode": {
   "interpreter": {
    "hash": "1a2b77741674cb2bc9a19c189751060df647b680c742b3419cc715cc3a77899f"
   }
  }
 },
 "nbformat": 4,
 "nbformat_minor": 2
}
