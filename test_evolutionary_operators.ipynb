{
 "cells": [
  {
   "cell_type": "code",
   "execution_count": 1,
   "metadata": {},
   "outputs": [],
   "source": [
    "import evolutionary_operator as eo\n",
    "import torch\n",
    "import benchmark_funs as bf"
   ]
  },
  {
   "cell_type": "code",
   "execution_count": 2,
   "metadata": {},
   "outputs": [
    {
     "name": "stdout",
     "output_type": "stream",
     "text": [
      "tensor([[-62.6376, -93.9308, -63.5702],\n",
      "        [-69.1540,  61.5717,  -1.8269]])\n",
      "tensor([[ 12.5326,  14.0513,   4.3649],\n",
      "        [ 34.5026, -59.2617,  16.6012]])\n",
      "tensor([[  2.8527,  26.4516,   2.9771],\n",
      "        [ 19.3569,  15.2643, -15.4786]])\n",
      "tensor([[ 3.7019, 14.2773,  6.9375],\n",
      "        [-3.2654, -9.1842,  7.9146]])\n",
      "tensor([[  5.0547,   3.9718,   0.1288],\n",
      "        [  6.1003,   1.9989, -76.2149]])\n",
      "tensor([[-91.6247, -16.0019,  81.7149],\n",
      "        [ -9.1909, -20.9676,  -9.2374]])\n",
      "tensor([[ -5.5611,   2.7046,  10.7732],\n",
      "        [ -0.4360, -38.5832, -10.9815]])\n",
      "tensor([[20.5423,  0.0000,  0.0000],\n",
      "        [ 2.7163, 15.1155, 84.3365]])\n",
      "tensor([[  0.0000,   3.6528, -76.7911],\n",
      "        [-14.1233,  16.3152,   0.0000]])\n",
      "tensor([[-30.3826,  12.7547,  20.7891],\n",
      "        [  0.6666,   1.7915,   0.0000]])\n",
      "tensor([[ 9.9559,  0.0000,  0.0000],\n",
      "        [ 0.0000, 23.7168,  0.0000]])\n"
     ]
    }
   ],
   "source": [
    "problem = bf.Sphere(3)\n",
    "for i_s in eo.initialization_operators.strategies:\n",
    "    i_strategy = i_s(problem)\n",
    "    x = torch.zeros(2, 3)\n",
    "    h = torch.zeros(2, 4)\n",
    "    x,h,e = i_strategy(x, h)\n",
    "    print(x)"
   ]
  },
  {
   "cell_type": "code",
   "execution_count": 3,
   "metadata": {},
   "outputs": [
    {
     "name": "stdout",
     "output_type": "stream",
     "text": [
      "tensor([[0., 0., 0.],\n",
      "        [0., 0., 0.]])\n",
      "tensor([[-0.7726,  0.7744,  0.3707],\n",
      "        [ 0.6570,  0.7866,  1.9462]])\n",
      "tensor([[ -7.8490,  -1.4332,  -1.9589],\n",
      "        [-17.0655,  -0.4681,  -3.4538]])\n",
      "tensor([[-0.0096,  0.0000,  0.3380],\n",
      "        [ 0.0000, -0.1994,  0.0000]])\n"
     ]
    }
   ],
   "source": [
    "for m_s in eo.mutation_operators.strategies:\n",
    "    m_strategy = m_s(problem)\n",
    "    x = torch.zeros(2, 3)\n",
    "    h = torch.ones(2, 4)\n",
    "    x,h,e = m_strategy(x, h)\n",
    "    print(x)"
   ]
  }
 ],
 "metadata": {
  "kernelspec": {
   "display_name": "torch2.0",
   "language": "python",
   "name": "python3"
  },
  "language_info": {
   "codemirror_mode": {
    "name": "ipython",
    "version": 3
   },
   "file_extension": ".py",
   "mimetype": "text/x-python",
   "name": "python",
   "nbconvert_exporter": "python",
   "pygments_lexer": "ipython3",
   "version": "3.9.13"
  },
  "orig_nbformat": 4,
  "vscode": {
   "interpreter": {
    "hash": "1a2b77741674cb2bc9a19c189751060df647b680c742b3419cc715cc3a77899f"
   }
  }
 },
 "nbformat": 4,
 "nbformat_minor": 2
}
